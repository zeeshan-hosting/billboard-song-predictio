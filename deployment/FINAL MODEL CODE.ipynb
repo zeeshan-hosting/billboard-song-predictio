{
 "cells": [
  {
   "cell_type": "markdown",
   "metadata": {
    "id": "E0_af_THrbMQ"
   },
   "source": [
    "# Importing libraries\n"
   ]
  },
  {
   "cell_type": "code",
   "execution_count": 2,
   "metadata": {
    "id": "or5YpQLKr4Ta"
   },
   "outputs": [],
   "source": [
    "import pandas as pd\n",
    "import warnings\n",
    "warnings.filterwarnings('ignore')\n",
    "import numpy as np\n",
    "import matplotlib.pyplot as plt\n",
    "%matplotlib inline\n",
    "import seaborn as sns\n",
    "from sklearn.preprocessing import MinMaxScaler\n",
    "from sklearn.model_selection import train_test_split\n",
    "from sklearn.linear_model import LogisticRegression\n",
    "from sklearn.tree import DecisionTreeClassifier\n",
    "from sklearn.metrics import r2_score, explained_variance_score, confusion_matrix, accuracy_score, classification_report, log_loss\n",
    "from sklearn.metrics import roc_auc_score,roc_curve,auc\n",
    "from math import sqrt"
   ]
  },
  {
   "cell_type": "markdown",
   "metadata": {
    "id": "py-d3DubtFzj"
   },
   "source": [
    "# importing datasets:"
   ]
  },
  {
   "cell_type": "code",
   "execution_count": 3,
   "metadata": {
    "colab": {
     "base_uri": "https://localhost:8080/",
     "height": 417
    },
    "id": "QBYCxSVNG6z5",
    "outputId": "15c128a9-1047-4474-8c58-3363c059824c"
   },
   "outputs": [
    {
     "data": {
      "text/html": [
       "<div>\n",
       "<style scoped>\n",
       "    .dataframe tbody tr th:only-of-type {\n",
       "        vertical-align: middle;\n",
       "    }\n",
       "\n",
       "    .dataframe tbody tr th {\n",
       "        vertical-align: top;\n",
       "    }\n",
       "\n",
       "    .dataframe thead th {\n",
       "        text-align: right;\n",
       "    }\n",
       "</style>\n",
       "<table border=\"1\" class=\"dataframe\">\n",
       "  <thead>\n",
       "    <tr style=\"text-align: right;\">\n",
       "      <th></th>\n",
       "      <th>Unnamed: 0</th>\n",
       "      <th>Danceability</th>\n",
       "      <th>Energy</th>\n",
       "      <th>Loudness</th>\n",
       "      <th>Speechiness</th>\n",
       "      <th>Acousticness</th>\n",
       "      <th>Instrumentalness</th>\n",
       "      <th>Liveness</th>\n",
       "      <th>Valence</th>\n",
       "      <th>Tempo</th>\n",
       "      <th>Genre</th>\n",
       "      <th>Top100</th>\n",
       "    </tr>\n",
       "  </thead>\n",
       "  <tbody>\n",
       "    <tr>\n",
       "      <th>0</th>\n",
       "      <td>0</td>\n",
       "      <td>0.556</td>\n",
       "      <td>0.864</td>\n",
       "      <td>-5.870</td>\n",
       "      <td>0.0584</td>\n",
       "      <td>0.009580</td>\n",
       "      <td>0.000000</td>\n",
       "      <td>0.2090</td>\n",
       "      <td>0.400</td>\n",
       "      <td>105.143</td>\n",
       "      <td>5</td>\n",
       "      <td>0</td>\n",
       "    </tr>\n",
       "    <tr>\n",
       "      <th>1</th>\n",
       "      <td>1</td>\n",
       "      <td>0.737</td>\n",
       "      <td>0.463</td>\n",
       "      <td>-7.828</td>\n",
       "      <td>0.0792</td>\n",
       "      <td>0.008170</td>\n",
       "      <td>0.447000</td>\n",
       "      <td>0.2550</td>\n",
       "      <td>0.324</td>\n",
       "      <td>123.881</td>\n",
       "      <td>9</td>\n",
       "      <td>0</td>\n",
       "    </tr>\n",
       "    <tr>\n",
       "      <th>2</th>\n",
       "      <td>2</td>\n",
       "      <td>0.618</td>\n",
       "      <td>0.938</td>\n",
       "      <td>-3.442</td>\n",
       "      <td>0.0456</td>\n",
       "      <td>0.017900</td>\n",
       "      <td>0.000000</td>\n",
       "      <td>0.1670</td>\n",
       "      <td>0.875</td>\n",
       "      <td>91.455</td>\n",
       "      <td>9</td>\n",
       "      <td>0</td>\n",
       "    </tr>\n",
       "    <tr>\n",
       "      <th>3</th>\n",
       "      <td>3</td>\n",
       "      <td>0.331</td>\n",
       "      <td>0.943</td>\n",
       "      <td>-3.188</td>\n",
       "      <td>0.0698</td>\n",
       "      <td>0.007210</td>\n",
       "      <td>0.000002</td>\n",
       "      <td>0.2420</td>\n",
       "      <td>0.296</td>\n",
       "      <td>94.612</td>\n",
       "      <td>0</td>\n",
       "      <td>0</td>\n",
       "    </tr>\n",
       "    <tr>\n",
       "      <th>4</th>\n",
       "      <td>4</td>\n",
       "      <td>0.589</td>\n",
       "      <td>0.890</td>\n",
       "      <td>-3.719</td>\n",
       "      <td>0.0603</td>\n",
       "      <td>0.000481</td>\n",
       "      <td>0.000820</td>\n",
       "      <td>0.2010</td>\n",
       "      <td>0.692</td>\n",
       "      <td>90.598</td>\n",
       "      <td>5</td>\n",
       "      <td>0</td>\n",
       "    </tr>\n",
       "    <tr>\n",
       "      <th>...</th>\n",
       "      <td>...</td>\n",
       "      <td>...</td>\n",
       "      <td>...</td>\n",
       "      <td>...</td>\n",
       "      <td>...</td>\n",
       "      <td>...</td>\n",
       "      <td>...</td>\n",
       "      <td>...</td>\n",
       "      <td>...</td>\n",
       "      <td>...</td>\n",
       "      <td>...</td>\n",
       "      <td>...</td>\n",
       "    </tr>\n",
       "    <tr>\n",
       "      <th>8647</th>\n",
       "      <td>9221</td>\n",
       "      <td>0.783</td>\n",
       "      <td>0.840</td>\n",
       "      <td>-3.416</td>\n",
       "      <td>0.0510</td>\n",
       "      <td>0.174000</td>\n",
       "      <td>0.000000</td>\n",
       "      <td>0.4120</td>\n",
       "      <td>0.839</td>\n",
       "      <td>95.001</td>\n",
       "      <td>8</td>\n",
       "      <td>1</td>\n",
       "    </tr>\n",
       "    <tr>\n",
       "      <th>8648</th>\n",
       "      <td>9222</td>\n",
       "      <td>0.669</td>\n",
       "      <td>0.308</td>\n",
       "      <td>-10.068</td>\n",
       "      <td>0.0290</td>\n",
       "      <td>0.883000</td>\n",
       "      <td>0.000000</td>\n",
       "      <td>0.0984</td>\n",
       "      <td>0.520</td>\n",
       "      <td>64.934</td>\n",
       "      <td>7</td>\n",
       "      <td>1</td>\n",
       "    </tr>\n",
       "    <tr>\n",
       "      <th>8649</th>\n",
       "      <td>9223</td>\n",
       "      <td>0.544</td>\n",
       "      <td>0.781</td>\n",
       "      <td>-6.160</td>\n",
       "      <td>0.0311</td>\n",
       "      <td>0.005850</td>\n",
       "      <td>0.000000</td>\n",
       "      <td>0.1910</td>\n",
       "      <td>0.527</td>\n",
       "      <td>144.075</td>\n",
       "      <td>2</td>\n",
       "      <td>1</td>\n",
       "    </tr>\n",
       "    <tr>\n",
       "      <th>8650</th>\n",
       "      <td>9224</td>\n",
       "      <td>0.713</td>\n",
       "      <td>0.831</td>\n",
       "      <td>-4.750</td>\n",
       "      <td>0.1500</td>\n",
       "      <td>0.016800</td>\n",
       "      <td>0.000000</td>\n",
       "      <td>0.1180</td>\n",
       "      <td>0.584</td>\n",
       "      <td>173.948</td>\n",
       "      <td>7</td>\n",
       "      <td>1</td>\n",
       "    </tr>\n",
       "    <tr>\n",
       "      <th>8651</th>\n",
       "      <td>9225</td>\n",
       "      <td>0.836</td>\n",
       "      <td>0.544</td>\n",
       "      <td>-5.975</td>\n",
       "      <td>0.0943</td>\n",
       "      <td>0.040300</td>\n",
       "      <td>0.000000</td>\n",
       "      <td>0.0824</td>\n",
       "      <td>0.510</td>\n",
       "      <td>97.028</td>\n",
       "      <td>6</td>\n",
       "      <td>1</td>\n",
       "    </tr>\n",
       "  </tbody>\n",
       "</table>\n",
       "<p>8652 rows × 12 columns</p>\n",
       "</div>"
      ],
      "text/plain": [
       "      Unnamed: 0  Danceability  Energy  Loudness  Speechiness  Acousticness  \\\n",
       "0              0         0.556   0.864    -5.870       0.0584      0.009580   \n",
       "1              1         0.737   0.463    -7.828       0.0792      0.008170   \n",
       "2              2         0.618   0.938    -3.442       0.0456      0.017900   \n",
       "3              3         0.331   0.943    -3.188       0.0698      0.007210   \n",
       "4              4         0.589   0.890    -3.719       0.0603      0.000481   \n",
       "...          ...           ...     ...       ...          ...           ...   \n",
       "8647        9221         0.783   0.840    -3.416       0.0510      0.174000   \n",
       "8648        9222         0.669   0.308   -10.068       0.0290      0.883000   \n",
       "8649        9223         0.544   0.781    -6.160       0.0311      0.005850   \n",
       "8650        9224         0.713   0.831    -4.750       0.1500      0.016800   \n",
       "8651        9225         0.836   0.544    -5.975       0.0943      0.040300   \n",
       "\n",
       "      Instrumentalness  Liveness  Valence    Tempo  Genre  Top100  \n",
       "0             0.000000    0.2090    0.400  105.143      5       0  \n",
       "1             0.447000    0.2550    0.324  123.881      9       0  \n",
       "2             0.000000    0.1670    0.875   91.455      9       0  \n",
       "3             0.000002    0.2420    0.296   94.612      0       0  \n",
       "4             0.000820    0.2010    0.692   90.598      5       0  \n",
       "...                ...       ...      ...      ...    ...     ...  \n",
       "8647          0.000000    0.4120    0.839   95.001      8       1  \n",
       "8648          0.000000    0.0984    0.520   64.934      7       1  \n",
       "8649          0.000000    0.1910    0.527  144.075      2       1  \n",
       "8650          0.000000    0.1180    0.584  173.948      7       1  \n",
       "8651          0.000000    0.0824    0.510   97.028      6       1  \n",
       "\n",
       "[8652 rows x 12 columns]"
      ]
     },
     "execution_count": 3,
     "metadata": {},
     "output_type": "execute_result"
    }
   ],
   "source": [
    "data=pd.read_csv('final_dataset (1).csv')\n",
    "data"
   ]
  },
  {
   "cell_type": "code",
   "execution_count": 4,
   "metadata": {
    "colab": {
     "base_uri": "https://localhost:8080/",
     "height": 417
    },
    "id": "zk5yPZspH2jF",
    "outputId": "fa1258f1-f6bc-47cd-8093-7b56c2906d3f"
   },
   "outputs": [
    {
     "data": {
      "text/html": [
       "<div>\n",
       "<style scoped>\n",
       "    .dataframe tbody tr th:only-of-type {\n",
       "        vertical-align: middle;\n",
       "    }\n",
       "\n",
       "    .dataframe tbody tr th {\n",
       "        vertical-align: top;\n",
       "    }\n",
       "\n",
       "    .dataframe thead th {\n",
       "        text-align: right;\n",
       "    }\n",
       "</style>\n",
       "<table border=\"1\" class=\"dataframe\">\n",
       "  <thead>\n",
       "    <tr style=\"text-align: right;\">\n",
       "      <th></th>\n",
       "      <th>Danceability</th>\n",
       "      <th>Energy</th>\n",
       "      <th>Loudness</th>\n",
       "      <th>Speechiness</th>\n",
       "      <th>Acousticness</th>\n",
       "      <th>Instrumentalness</th>\n",
       "      <th>Liveness</th>\n",
       "      <th>Valence</th>\n",
       "      <th>Tempo</th>\n",
       "      <th>Genre</th>\n",
       "      <th>Top100</th>\n",
       "    </tr>\n",
       "  </thead>\n",
       "  <tbody>\n",
       "    <tr>\n",
       "      <th>0</th>\n",
       "      <td>0.556</td>\n",
       "      <td>0.864</td>\n",
       "      <td>-5.870</td>\n",
       "      <td>0.0584</td>\n",
       "      <td>0.009580</td>\n",
       "      <td>0.000000</td>\n",
       "      <td>0.2090</td>\n",
       "      <td>0.400</td>\n",
       "      <td>105.143</td>\n",
       "      <td>5</td>\n",
       "      <td>0</td>\n",
       "    </tr>\n",
       "    <tr>\n",
       "      <th>1</th>\n",
       "      <td>0.737</td>\n",
       "      <td>0.463</td>\n",
       "      <td>-7.828</td>\n",
       "      <td>0.0792</td>\n",
       "      <td>0.008170</td>\n",
       "      <td>0.447000</td>\n",
       "      <td>0.2550</td>\n",
       "      <td>0.324</td>\n",
       "      <td>123.881</td>\n",
       "      <td>9</td>\n",
       "      <td>0</td>\n",
       "    </tr>\n",
       "    <tr>\n",
       "      <th>2</th>\n",
       "      <td>0.618</td>\n",
       "      <td>0.938</td>\n",
       "      <td>-3.442</td>\n",
       "      <td>0.0456</td>\n",
       "      <td>0.017900</td>\n",
       "      <td>0.000000</td>\n",
       "      <td>0.1670</td>\n",
       "      <td>0.875</td>\n",
       "      <td>91.455</td>\n",
       "      <td>9</td>\n",
       "      <td>0</td>\n",
       "    </tr>\n",
       "    <tr>\n",
       "      <th>3</th>\n",
       "      <td>0.331</td>\n",
       "      <td>0.943</td>\n",
       "      <td>-3.188</td>\n",
       "      <td>0.0698</td>\n",
       "      <td>0.007210</td>\n",
       "      <td>0.000002</td>\n",
       "      <td>0.2420</td>\n",
       "      <td>0.296</td>\n",
       "      <td>94.612</td>\n",
       "      <td>0</td>\n",
       "      <td>0</td>\n",
       "    </tr>\n",
       "    <tr>\n",
       "      <th>4</th>\n",
       "      <td>0.589</td>\n",
       "      <td>0.890</td>\n",
       "      <td>-3.719</td>\n",
       "      <td>0.0603</td>\n",
       "      <td>0.000481</td>\n",
       "      <td>0.000820</td>\n",
       "      <td>0.2010</td>\n",
       "      <td>0.692</td>\n",
       "      <td>90.598</td>\n",
       "      <td>5</td>\n",
       "      <td>0</td>\n",
       "    </tr>\n",
       "    <tr>\n",
       "      <th>...</th>\n",
       "      <td>...</td>\n",
       "      <td>...</td>\n",
       "      <td>...</td>\n",
       "      <td>...</td>\n",
       "      <td>...</td>\n",
       "      <td>...</td>\n",
       "      <td>...</td>\n",
       "      <td>...</td>\n",
       "      <td>...</td>\n",
       "      <td>...</td>\n",
       "      <td>...</td>\n",
       "    </tr>\n",
       "    <tr>\n",
       "      <th>8647</th>\n",
       "      <td>0.783</td>\n",
       "      <td>0.840</td>\n",
       "      <td>-3.416</td>\n",
       "      <td>0.0510</td>\n",
       "      <td>0.174000</td>\n",
       "      <td>0.000000</td>\n",
       "      <td>0.4120</td>\n",
       "      <td>0.839</td>\n",
       "      <td>95.001</td>\n",
       "      <td>8</td>\n",
       "      <td>1</td>\n",
       "    </tr>\n",
       "    <tr>\n",
       "      <th>8648</th>\n",
       "      <td>0.669</td>\n",
       "      <td>0.308</td>\n",
       "      <td>-10.068</td>\n",
       "      <td>0.0290</td>\n",
       "      <td>0.883000</td>\n",
       "      <td>0.000000</td>\n",
       "      <td>0.0984</td>\n",
       "      <td>0.520</td>\n",
       "      <td>64.934</td>\n",
       "      <td>7</td>\n",
       "      <td>1</td>\n",
       "    </tr>\n",
       "    <tr>\n",
       "      <th>8649</th>\n",
       "      <td>0.544</td>\n",
       "      <td>0.781</td>\n",
       "      <td>-6.160</td>\n",
       "      <td>0.0311</td>\n",
       "      <td>0.005850</td>\n",
       "      <td>0.000000</td>\n",
       "      <td>0.1910</td>\n",
       "      <td>0.527</td>\n",
       "      <td>144.075</td>\n",
       "      <td>2</td>\n",
       "      <td>1</td>\n",
       "    </tr>\n",
       "    <tr>\n",
       "      <th>8650</th>\n",
       "      <td>0.713</td>\n",
       "      <td>0.831</td>\n",
       "      <td>-4.750</td>\n",
       "      <td>0.1500</td>\n",
       "      <td>0.016800</td>\n",
       "      <td>0.000000</td>\n",
       "      <td>0.1180</td>\n",
       "      <td>0.584</td>\n",
       "      <td>173.948</td>\n",
       "      <td>7</td>\n",
       "      <td>1</td>\n",
       "    </tr>\n",
       "    <tr>\n",
       "      <th>8651</th>\n",
       "      <td>0.836</td>\n",
       "      <td>0.544</td>\n",
       "      <td>-5.975</td>\n",
       "      <td>0.0943</td>\n",
       "      <td>0.040300</td>\n",
       "      <td>0.000000</td>\n",
       "      <td>0.0824</td>\n",
       "      <td>0.510</td>\n",
       "      <td>97.028</td>\n",
       "      <td>6</td>\n",
       "      <td>1</td>\n",
       "    </tr>\n",
       "  </tbody>\n",
       "</table>\n",
       "<p>8652 rows × 11 columns</p>\n",
       "</div>"
      ],
      "text/plain": [
       "      Danceability  Energy  Loudness  Speechiness  Acousticness  \\\n",
       "0            0.556   0.864    -5.870       0.0584      0.009580   \n",
       "1            0.737   0.463    -7.828       0.0792      0.008170   \n",
       "2            0.618   0.938    -3.442       0.0456      0.017900   \n",
       "3            0.331   0.943    -3.188       0.0698      0.007210   \n",
       "4            0.589   0.890    -3.719       0.0603      0.000481   \n",
       "...            ...     ...       ...          ...           ...   \n",
       "8647         0.783   0.840    -3.416       0.0510      0.174000   \n",
       "8648         0.669   0.308   -10.068       0.0290      0.883000   \n",
       "8649         0.544   0.781    -6.160       0.0311      0.005850   \n",
       "8650         0.713   0.831    -4.750       0.1500      0.016800   \n",
       "8651         0.836   0.544    -5.975       0.0943      0.040300   \n",
       "\n",
       "      Instrumentalness  Liveness  Valence    Tempo  Genre  Top100  \n",
       "0             0.000000    0.2090    0.400  105.143      5       0  \n",
       "1             0.447000    0.2550    0.324  123.881      9       0  \n",
       "2             0.000000    0.1670    0.875   91.455      9       0  \n",
       "3             0.000002    0.2420    0.296   94.612      0       0  \n",
       "4             0.000820    0.2010    0.692   90.598      5       0  \n",
       "...                ...       ...      ...      ...    ...     ...  \n",
       "8647          0.000000    0.4120    0.839   95.001      8       1  \n",
       "8648          0.000000    0.0984    0.520   64.934      7       1  \n",
       "8649          0.000000    0.1910    0.527  144.075      2       1  \n",
       "8650          0.000000    0.1180    0.584  173.948      7       1  \n",
       "8651          0.000000    0.0824    0.510   97.028      6       1  \n",
       "\n",
       "[8652 rows x 11 columns]"
      ]
     },
     "execution_count": 4,
     "metadata": {},
     "output_type": "execute_result"
    }
   ],
   "source": [
    "# dropping the unnecessary columns:\n",
    "\n",
    "data.drop('Unnamed: 0',axis=1,inplace=True)\n",
    "data"
   ]
  },
  {
   "cell_type": "code",
   "execution_count": 5,
   "metadata": {
    "colab": {
     "base_uri": "https://localhost:8080/"
    },
    "id": "kduxobwAIFHz",
    "outputId": "d9b1c322-97bd-465c-b967-474934d8f626"
   },
   "outputs": [
    {
     "data": {
      "text/plain": [
       "(8652, 11)"
      ]
     },
     "execution_count": 5,
     "metadata": {},
     "output_type": "execute_result"
    }
   ],
   "source": [
    "# Checkinng shape of dataset\n",
    "data.shape"
   ]
  },
  {
   "cell_type": "code",
   "execution_count": 6,
   "metadata": {
    "colab": {
     "base_uri": "https://localhost:8080/"
    },
    "id": "ZCxiqsUDIIIF",
    "outputId": "529fc066-e7f6-48c8-c188-5d7463da26fa"
   },
   "outputs": [
    {
     "data": {
      "text/plain": [
       "<bound method DataFrame.info of       Danceability  Energy  Loudness  Speechiness  Acousticness  \\\n",
       "0            0.556   0.864    -5.870       0.0584      0.009580   \n",
       "1            0.737   0.463    -7.828       0.0792      0.008170   \n",
       "2            0.618   0.938    -3.442       0.0456      0.017900   \n",
       "3            0.331   0.943    -3.188       0.0698      0.007210   \n",
       "4            0.589   0.890    -3.719       0.0603      0.000481   \n",
       "...            ...     ...       ...          ...           ...   \n",
       "8647         0.783   0.840    -3.416       0.0510      0.174000   \n",
       "8648         0.669   0.308   -10.068       0.0290      0.883000   \n",
       "8649         0.544   0.781    -6.160       0.0311      0.005850   \n",
       "8650         0.713   0.831    -4.750       0.1500      0.016800   \n",
       "8651         0.836   0.544    -5.975       0.0943      0.040300   \n",
       "\n",
       "      Instrumentalness  Liveness  Valence    Tempo  Genre  Top100  \n",
       "0             0.000000    0.2090    0.400  105.143      5       0  \n",
       "1             0.447000    0.2550    0.324  123.881      9       0  \n",
       "2             0.000000    0.1670    0.875   91.455      9       0  \n",
       "3             0.000002    0.2420    0.296   94.612      0       0  \n",
       "4             0.000820    0.2010    0.692   90.598      5       0  \n",
       "...                ...       ...      ...      ...    ...     ...  \n",
       "8647          0.000000    0.4120    0.839   95.001      8       1  \n",
       "8648          0.000000    0.0984    0.520   64.934      7       1  \n",
       "8649          0.000000    0.1910    0.527  144.075      2       1  \n",
       "8650          0.000000    0.1180    0.584  173.948      7       1  \n",
       "8651          0.000000    0.0824    0.510   97.028      6       1  \n",
       "\n",
       "[8652 rows x 11 columns]>"
      ]
     },
     "execution_count": 6,
     "metadata": {},
     "output_type": "execute_result"
    }
   ],
   "source": [
    "#chceking the general information of data\n",
    "data.info"
   ]
  },
  {
   "cell_type": "code",
   "execution_count": 7,
   "metadata": {
    "colab": {
     "base_uri": "https://localhost:8080/",
     "height": 296
    },
    "id": "3oPMm0V9INE9",
    "outputId": "9bb221e8-f1c7-4ba8-808a-21212a98e6a8"
   },
   "outputs": [
    {
     "data": {
      "text/plain": [
       "<AxesSubplot:xlabel='Top100', ylabel='count'>"
      ]
     },
     "execution_count": 7,
     "metadata": {},
     "output_type": "execute_result"
    },
    {
     "data": {
      "image/png": "[encoded data removed]",
      "text/plain": [
       "<Figure size 432x288 with 1 Axes>"
      ]
     },
     "metadata": {
      "needs_background": "light"
     },
     "output_type": "display_data"
    }
   ],
   "source": [
    "# Plotting countplot output classes\n",
    "sns.countplot(x=\"Top100\",data=data,palette=\"Set3\")"
   ]
  },
  {
   "cell_type": "code",
   "execution_count": 8,
   "metadata": {
    "colab": {
     "base_uri": "https://localhost:8080/"
    },
    "id": "qFH5EatUTiXA",
    "outputId": "7f936776-a3d0-4ff2-8ab7-bffe88cc1600"
   },
   "outputs": [
    {
     "data": {
      "text/plain": [
       "0    7151\n",
       "1    1501\n",
       "Name: Top100, dtype: int64"
      ]
     },
     "execution_count": 8,
     "metadata": {},
     "output_type": "execute_result"
    }
   ],
   "source": [
    "data['Top100'].value_counts()\n"
   ]
  },
  {
   "cell_type": "code",
   "execution_count": 9,
   "metadata": {
    "id": "PlfT1dG1IPk-"
   },
   "outputs": [],
   "source": [
    "# Splitting into independent and dependent variable\n",
    "X=data.drop(\"Top100\",axis=1)    # excluding output column\n",
    "y=data[\"Top100\"]"
   ]
  },
  {
   "cell_type": "code",
   "execution_count": 10,
   "metadata": {
    "colab": {
     "base_uri": "https://localhost:8080/",
     "height": 417
    },
    "id": "KbqoxZrGISbJ",
    "outputId": "696e5863-2590-49ef-e1d7-60e02e561467"
   },
   "outputs": [
    {
     "data": {
      "text/html": [
       "<div>\n",
       "<style scoped>\n",
       "    .dataframe tbody tr th:only-of-type {\n",
       "        vertical-align: middle;\n",
       "    }\n",
       "\n",
       "    .dataframe tbody tr th {\n",
       "        vertical-align: top;\n",
       "    }\n",
       "\n",
       "    .dataframe thead th {\n",
       "        text-align: right;\n",
       "    }\n",
       "</style>\n",
       "<table border=\"1\" class=\"dataframe\">\n",
       "  <thead>\n",
       "    <tr style=\"text-align: right;\">\n",
       "      <th></th>\n",
       "      <th>Danceability</th>\n",
       "      <th>Energy</th>\n",
       "      <th>Loudness</th>\n",
       "      <th>Speechiness</th>\n",
       "      <th>Acousticness</th>\n",
       "      <th>Instrumentalness</th>\n",
       "      <th>Liveness</th>\n",
       "      <th>Valence</th>\n",
       "      <th>Tempo</th>\n",
       "      <th>Genre</th>\n",
       "    </tr>\n",
       "  </thead>\n",
       "  <tbody>\n",
       "    <tr>\n",
       "      <th>0</th>\n",
       "      <td>0.556</td>\n",
       "      <td>0.864</td>\n",
       "      <td>-5.870</td>\n",
       "      <td>0.0584</td>\n",
       "      <td>0.009580</td>\n",
       "      <td>0.000000</td>\n",
       "      <td>0.2090</td>\n",
       "      <td>0.400</td>\n",
       "      <td>105.143</td>\n",
       "      <td>5</td>\n",
       "    </tr>\n",
       "    <tr>\n",
       "      <th>1</th>\n",
       "      <td>0.737</td>\n",
       "      <td>0.463</td>\n",
       "      <td>-7.828</td>\n",
       "      <td>0.0792</td>\n",
       "      <td>0.008170</td>\n",
       "      <td>0.447000</td>\n",
       "      <td>0.2550</td>\n",
       "      <td>0.324</td>\n",
       "      <td>123.881</td>\n",
       "      <td>9</td>\n",
       "    </tr>\n",
       "    <tr>\n",
       "      <th>2</th>\n",
       "      <td>0.618</td>\n",
       "      <td>0.938</td>\n",
       "      <td>-3.442</td>\n",
       "      <td>0.0456</td>\n",
       "      <td>0.017900</td>\n",
       "      <td>0.000000</td>\n",
       "      <td>0.1670</td>\n",
       "      <td>0.875</td>\n",
       "      <td>91.455</td>\n",
       "      <td>9</td>\n",
       "    </tr>\n",
       "    <tr>\n",
       "      <th>3</th>\n",
       "      <td>0.331</td>\n",
       "      <td>0.943</td>\n",
       "      <td>-3.188</td>\n",
       "      <td>0.0698</td>\n",
       "      <td>0.007210</td>\n",
       "      <td>0.000002</td>\n",
       "      <td>0.2420</td>\n",
       "      <td>0.296</td>\n",
       "      <td>94.612</td>\n",
       "      <td>0</td>\n",
       "    </tr>\n",
       "    <tr>\n",
       "      <th>4</th>\n",
       "      <td>0.589</td>\n",
       "      <td>0.890</td>\n",
       "      <td>-3.719</td>\n",
       "      <td>0.0603</td>\n",
       "      <td>0.000481</td>\n",
       "      <td>0.000820</td>\n",
       "      <td>0.2010</td>\n",
       "      <td>0.692</td>\n",
       "      <td>90.598</td>\n",
       "      <td>5</td>\n",
       "    </tr>\n",
       "    <tr>\n",
       "      <th>...</th>\n",
       "      <td>...</td>\n",
       "      <td>...</td>\n",
       "      <td>...</td>\n",
       "      <td>...</td>\n",
       "      <td>...</td>\n",
       "      <td>...</td>\n",
       "      <td>...</td>\n",
       "      <td>...</td>\n",
       "      <td>...</td>\n",
       "      <td>...</td>\n",
       "    </tr>\n",
       "    <tr>\n",
       "      <th>8647</th>\n",
       "      <td>0.783</td>\n",
       "      <td>0.840</td>\n",
       "      <td>-3.416</td>\n",
       "      <td>0.0510</td>\n",
       "      <td>0.174000</td>\n",
       "      <td>0.000000</td>\n",
       "      <td>0.4120</td>\n",
       "      <td>0.839</td>\n",
       "      <td>95.001</td>\n",
       "      <td>8</td>\n",
       "    </tr>\n",
       "    <tr>\n",
       "      <th>8648</th>\n",
       "      <td>0.669</td>\n",
       "      <td>0.308</td>\n",
       "      <td>-10.068</td>\n",
       "      <td>0.0290</td>\n",
       "      <td>0.883000</td>\n",
       "      <td>0.000000</td>\n",
       "      <td>0.0984</td>\n",
       "      <td>0.520</td>\n",
       "      <td>64.934</td>\n",
       "      <td>7</td>\n",
       "    </tr>\n",
       "    <tr>\n",
       "      <th>8649</th>\n",
       "      <td>0.544</td>\n",
       "      <td>0.781</td>\n",
       "      <td>-6.160</td>\n",
       "      <td>0.0311</td>\n",
       "      <td>0.005850</td>\n",
       "      <td>0.000000</td>\n",
       "      <td>0.1910</td>\n",
       "      <td>0.527</td>\n",
       "      <td>144.075</td>\n",
       "      <td>2</td>\n",
       "    </tr>\n",
       "    <tr>\n",
       "      <th>8650</th>\n",
       "      <td>0.713</td>\n",
       "      <td>0.831</td>\n",
       "      <td>-4.750</td>\n",
       "      <td>0.1500</td>\n",
       "      <td>0.016800</td>\n",
       "      <td>0.000000</td>\n",
       "      <td>0.1180</td>\n",
       "      <td>0.584</td>\n",
       "      <td>173.948</td>\n",
       "      <td>7</td>\n",
       "    </tr>\n",
       "    <tr>\n",
       "      <th>8651</th>\n",
       "      <td>0.836</td>\n",
       "      <td>0.544</td>\n",
       "      <td>-5.975</td>\n",
       "      <td>0.0943</td>\n",
       "      <td>0.040300</td>\n",
       "      <td>0.000000</td>\n",
       "      <td>0.0824</td>\n",
       "      <td>0.510</td>\n",
       "      <td>97.028</td>\n",
       "      <td>6</td>\n",
       "    </tr>\n",
       "  </tbody>\n",
       "</table>\n",
       "<p>8652 rows × 10 columns</p>\n",
       "</div>"
      ],
      "text/plain": [
       "      Danceability  Energy  Loudness  Speechiness  Acousticness  \\\n",
       "0            0.556   0.864    -5.870       0.0584      0.009580   \n",
       "1            0.737   0.463    -7.828       0.0792      0.008170   \n",
       "2            0.618   0.938    -3.442       0.0456      0.017900   \n",
       "3            0.331   0.943    -3.188       0.0698      0.007210   \n",
       "4            0.589   0.890    -3.719       0.0603      0.000481   \n",
       "...            ...     ...       ...          ...           ...   \n",
       "8647         0.783   0.840    -3.416       0.0510      0.174000   \n",
       "8648         0.669   0.308   -10.068       0.0290      0.883000   \n",
       "8649         0.544   0.781    -6.160       0.0311      0.005850   \n",
       "8650         0.713   0.831    -4.750       0.1500      0.016800   \n",
       "8651         0.836   0.544    -5.975       0.0943      0.040300   \n",
       "\n",
       "      Instrumentalness  Liveness  Valence    Tempo  Genre  \n",
       "0             0.000000    0.2090    0.400  105.143      5  \n",
       "1             0.447000    0.2550    0.324  123.881      9  \n",
       "2             0.000000    0.1670    0.875   91.455      9  \n",
       "3             0.000002    0.2420    0.296   94.612      0  \n",
       "4             0.000820    0.2010    0.692   90.598      5  \n",
       "...                ...       ...      ...      ...    ...  \n",
       "8647          0.000000    0.4120    0.839   95.001      8  \n",
       "8648          0.000000    0.0984    0.520   64.934      7  \n",
       "8649          0.000000    0.1910    0.527  144.075      2  \n",
       "8650          0.000000    0.1180    0.584  173.948      7  \n",
       "8651          0.000000    0.0824    0.510   97.028      6  \n",
       "\n",
       "[8652 rows x 10 columns]"
      ]
     },
     "execution_count": 10,
     "metadata": {},
     "output_type": "execute_result"
    }
   ],
   "source": [
    "X"
   ]
  },
  {
   "cell_type": "code",
   "execution_count": 11,
   "metadata": {
    "colab": {
     "base_uri": "https://localhost:8080/"
    },
    "id": "NgNHutCZIUXd",
    "outputId": "c30e942a-7e32-4b7b-809e-4748637fd2a9"
   },
   "outputs": [
    {
     "data": {
      "text/plain": [
       "(8652, 10)"
      ]
     },
     "execution_count": 11,
     "metadata": {},
     "output_type": "execute_result"
    }
   ],
   "source": [
    "X.shape"
   ]
  },
  {
   "cell_type": "code",
   "execution_count": 12,
   "metadata": {
    "colab": {
     "base_uri": "https://localhost:8080/"
    },
    "id": "Pqyx5SQCIVhB",
    "outputId": "c01f2b3f-65ca-4e88-a329-976a4f97cfe4"
   },
   "outputs": [
    {
     "data": {
      "text/plain": [
       "0       0\n",
       "1       0\n",
       "2       0\n",
       "3       0\n",
       "4       0\n",
       "       ..\n",
       "8647    1\n",
       "8648    1\n",
       "8649    1\n",
       "8650    1\n",
       "8651    1\n",
       "Name: Top100, Length: 8652, dtype: int64"
      ]
     },
     "execution_count": 12,
     "metadata": {},
     "output_type": "execute_result"
    }
   ],
   "source": [
    "y"
   ]
  },
  {
   "cell_type": "code",
   "execution_count": 13,
   "metadata": {
    "colab": {
     "base_uri": "https://localhost:8080/"
    },
    "id": "2Kb9f1XVIWCI",
    "outputId": "80ffe241-2bc4-4738-dd45-f10ab92bc67c"
   },
   "outputs": [
    {
     "data": {
      "text/plain": [
       "(8652,)"
      ]
     },
     "execution_count": 13,
     "metadata": {},
     "output_type": "execute_result"
    }
   ],
   "source": [
    "y.shape"
   ]
  },
  {
   "cell_type": "code",
   "execution_count": 14,
   "metadata": {},
   "outputs": [
    {
     "name": "stdout",
     "output_type": "stream",
     "text": [
      "Requirement already satisfied: imblearn in c:\\users\\awesomeakbar\\appdata\\local\\programs\\python\\python39\\lib\\site-packages (0.0)\n",
      "Requirement already satisfied: imbalanced-learn in c:\\users\\awesomeakbar\\appdata\\local\\programs\\python\\python39\\lib\\site-packages (from imblearn) (0.8.0)\n",
      "Requirement already satisfied: joblib>=0.11 in c:\\users\\awesomeakbar\\appdata\\local\\programs\\python\\python39\\lib\\site-packages (from imbalanced-learn->imblearn) (1.0.0)\n",
      "Requirement already satisfied: scipy>=0.19.1 in c:\\users\\awesomeakbar\\appdata\\local\\programs\\python\\python39\\lib\\site-packages (from imbalanced-learn->imblearn) (1.6.0)\n",
      "Requirement already satisfied: numpy>=1.13.3 in c:\\users\\awesomeakbar\\appdata\\local\\programs\\python\\python39\\lib\\site-packages (from imbalanced-learn->imblearn) (1.19.5)\n",
      "Requirement already satisfied: scikit-learn>=0.24 in c:\\users\\awesomeakbar\\appdata\\local\\programs\\python\\python39\\lib\\site-packages (from imbalanced-learn->imblearn) (0.24.1)\n",
      "Requirement already satisfied: threadpoolctl>=2.0.0 in c:\\users\\awesomeakbar\\appdata\\local\\programs\\python\\python39\\lib\\site-packages (from scikit-learn>=0.24->imbalanced-learn->imblearn) (2.1.0)\n"
     ]
    },
    {
     "name": "stderr",
     "output_type": "stream",
     "text": [
      "WARNING: You are using pip version 20.2.3; however, version 21.2.2 is available.\n",
      "You should consider upgrading via the 'c:\\users\\awesomeakbar\\appdata\\local\\programs\\python\\python39\\python.exe -m pip install --upgrade pip' command.\n"
     ]
    }
   ],
   "source": [
    "!pip install imblearn"
   ]
  },
  {
   "cell_type": "markdown",
   "metadata": {},
   "source": [
    "# balancing the data"
   ]
  },
  {
   "cell_type": "code",
   "execution_count": 15,
   "metadata": {
    "colab": {
     "base_uri": "https://localhost:8080/"
    },
    "id": "tWxv6RBmT_Ak",
    "outputId": "dcf06d73-bba1-48da-aa48-7cb35ebbb3f1"
   },
   "outputs": [
    {
     "data": {
      "text/plain": [
       "((14302, 10), (14302,))"
      ]
     },
     "execution_count": 15,
     "metadata": {},
     "output_type": "execute_result"
    }
   ],
   "source": [
    "# Applying SMOTE: to balance the dataset\n",
    "from imblearn.over_sampling import SMOTE\n",
    "smote=SMOTE(sampling_strategy=\"minority\")\n",
    "X_sm,y_sm=smote.fit_resample(X,y)\n",
    "X_sm.shape,y_sm.shape  "
   ]
  },
  {
   "cell_type": "code",
   "execution_count": 16,
   "metadata": {
    "colab": {
     "base_uri": "https://localhost:8080/"
    },
    "id": "As4Yc9djUuRQ",
    "outputId": "9af3e247-3c66-4c59-fbab-3c14eb9c4bbb"
   },
   "outputs": [
    {
     "data": {
      "text/plain": [
       "((14302, 10), (14302,))"
      ]
     },
     "execution_count": 16,
     "metadata": {},
     "output_type": "execute_result"
    }
   ],
   "source": [
    "# Checking the shape again after applying smote\n",
    "X_sm.shape,y_sm.shape"
   ]
  },
  {
   "cell_type": "code",
   "execution_count": 17,
   "metadata": {
    "colab": {
     "base_uri": "https://localhost:8080/"
    },
    "id": "DKIWPXFuIexv",
    "outputId": "2f081fb6-1833-4e1d-d43f-aa8b6034fb54"
   },
   "outputs": [
    {
     "data": {
      "text/plain": [
       "Index(['Danceability', 'Energy', 'Loudness', 'Speechiness', 'Acousticness',\n",
       "       'Instrumentalness', 'Liveness', 'Valence', 'Tempo', 'Genre', 'Top100'],\n",
       "      dtype='object')"
      ]
     },
     "execution_count": 17,
     "metadata": {},
     "output_type": "execute_result"
    }
   ],
   "source": [
    "data.columns"
   ]
  },
  {
   "cell_type": "code",
   "execution_count": 18,
   "metadata": {
    "colab": {
     "base_uri": "https://localhost:8080/",
     "height": 110
    },
    "id": "h1IX431eIj2P",
    "outputId": "143f9d3d-6fd1-4797-d6b2-b0611ebf7190"
   },
   "outputs": [
    {
     "data": {
      "text/html": [
       "<div>\n",
       "<style scoped>\n",
       "    .dataframe tbody tr th:only-of-type {\n",
       "        vertical-align: middle;\n",
       "    }\n",
       "\n",
       "    .dataframe tbody tr th {\n",
       "        vertical-align: top;\n",
       "    }\n",
       "\n",
       "    .dataframe thead th {\n",
       "        text-align: right;\n",
       "    }\n",
       "</style>\n",
       "<table border=\"1\" class=\"dataframe\">\n",
       "  <thead>\n",
       "    <tr style=\"text-align: right;\">\n",
       "      <th></th>\n",
       "      <th>Danceability</th>\n",
       "      <th>Energy</th>\n",
       "      <th>Loudness</th>\n",
       "      <th>Speechiness</th>\n",
       "      <th>Acousticness</th>\n",
       "      <th>Instrumentalness</th>\n",
       "      <th>Liveness</th>\n",
       "      <th>Valence</th>\n",
       "      <th>Tempo</th>\n",
       "      <th>Genre</th>\n",
       "    </tr>\n",
       "  </thead>\n",
       "  <tbody>\n",
       "    <tr>\n",
       "      <th>0</th>\n",
       "      <td>0.556</td>\n",
       "      <td>0.864</td>\n",
       "      <td>-5.870</td>\n",
       "      <td>0.0584</td>\n",
       "      <td>0.00958</td>\n",
       "      <td>0.000</td>\n",
       "      <td>0.209</td>\n",
       "      <td>0.400</td>\n",
       "      <td>105.143</td>\n",
       "      <td>5</td>\n",
       "    </tr>\n",
       "    <tr>\n",
       "      <th>1</th>\n",
       "      <td>0.737</td>\n",
       "      <td>0.463</td>\n",
       "      <td>-7.828</td>\n",
       "      <td>0.0792</td>\n",
       "      <td>0.00817</td>\n",
       "      <td>0.447</td>\n",
       "      <td>0.255</td>\n",
       "      <td>0.324</td>\n",
       "      <td>123.881</td>\n",
       "      <td>9</td>\n",
       "    </tr>\n",
       "  </tbody>\n",
       "</table>\n",
       "</div>"
      ],
      "text/plain": [
       "   Danceability  Energy  Loudness  Speechiness  Acousticness  \\\n",
       "0         0.556   0.864    -5.870       0.0584       0.00958   \n",
       "1         0.737   0.463    -7.828       0.0792       0.00817   \n",
       "\n",
       "   Instrumentalness  Liveness  Valence    Tempo  Genre  \n",
       "0             0.000     0.209    0.400  105.143      5  \n",
       "1             0.447     0.255    0.324  123.881      9  "
      ]
     },
     "execution_count": 18,
     "metadata": {},
     "output_type": "execute_result"
    }
   ],
   "source": [
    "column=['Danceability', 'Energy', 'Loudness', 'Speechiness', 'Acousticness',\n",
    "       'Instrumentalness', 'Liveness', 'Valence', 'Tempo', 'Genre']\n",
    "X_balance=pd.DataFrame(X_sm,columns=column)\n",
    "X_balance.head(2)"
   ]
  },
  {
   "cell_type": "code",
   "execution_count": 19,
   "metadata": {
    "colab": {
     "base_uri": "https://localhost:8080/"
    },
    "id": "I6YzpBClVfb6",
    "outputId": "e04f3b37-eaa1-43dc-8c64-2ddaa6c82244"
   },
   "outputs": [
    {
     "data": {
      "text/plain": [
       "(14302, 10)"
      ]
     },
     "execution_count": 19,
     "metadata": {},
     "output_type": "execute_result"
    }
   ],
   "source": [
    "X_balance.shape"
   ]
  },
  {
   "cell_type": "markdown",
   "metadata": {},
   "source": [
    "# scaling the data:"
   ]
  },
  {
   "cell_type": "code",
   "execution_count": 20,
   "metadata": {
    "id": "OtPMGU4fJUcx"
   },
   "outputs": [],
   "source": [
    "# MinMax scaler to scale our data , since we can see that there can be units difference\n",
    "scaling=MinMaxScaler()\n",
    "X_scaled=scaling.fit_transform(X_sm)"
   ]
  },
  {
   "cell_type": "code",
   "execution_count": 21,
   "metadata": {
    "colab": {
     "base_uri": "https://localhost:8080/",
     "height": 110
    },
    "id": "Cmyx0FOvJZ8z",
    "outputId": "a2b3ea0f-4608-455f-c187-3581e045fef5"
   },
   "outputs": [
    {
     "data": {
      "text/html": [
       "<div>\n",
       "<style scoped>\n",
       "    .dataframe tbody tr th:only-of-type {\n",
       "        vertical-align: middle;\n",
       "    }\n",
       "\n",
       "    .dataframe tbody tr th {\n",
       "        vertical-align: top;\n",
       "    }\n",
       "\n",
       "    .dataframe thead th {\n",
       "        text-align: right;\n",
       "    }\n",
       "</style>\n",
       "<table border=\"1\" class=\"dataframe\">\n",
       "  <thead>\n",
       "    <tr style=\"text-align: right;\">\n",
       "      <th></th>\n",
       "      <th>Danceability</th>\n",
       "      <th>Energy</th>\n",
       "      <th>Loudness</th>\n",
       "      <th>Speechiness</th>\n",
       "      <th>Acousticness</th>\n",
       "      <th>Instrumentalness</th>\n",
       "      <th>Liveness</th>\n",
       "      <th>Valence</th>\n",
       "      <th>Tempo</th>\n",
       "      <th>Genre</th>\n",
       "    </tr>\n",
       "  </thead>\n",
       "  <tbody>\n",
       "    <tr>\n",
       "      <th>0</th>\n",
       "      <td>0.537692</td>\n",
       "      <td>0.866212</td>\n",
       "      <td>0.810564</td>\n",
       "      <td>0.042070</td>\n",
       "      <td>0.009617</td>\n",
       "      <td>0.000000</td>\n",
       "      <td>0.202341</td>\n",
       "      <td>0.392104</td>\n",
       "      <td>0.345391</td>\n",
       "      <td>0.555556</td>\n",
       "    </tr>\n",
       "    <tr>\n",
       "      <th>1</th>\n",
       "      <td>0.734581</td>\n",
       "      <td>0.462836</td>\n",
       "      <td>0.759134</td>\n",
       "      <td>0.066651</td>\n",
       "      <td>0.008202</td>\n",
       "      <td>0.455193</td>\n",
       "      <td>0.249564</td>\n",
       "      <td>0.312722</td>\n",
       "      <td>0.455924</td>\n",
       "      <td>1.000000</td>\n",
       "    </tr>\n",
       "  </tbody>\n",
       "</table>\n",
       "</div>"
      ],
      "text/plain": [
       "   Danceability    Energy  Loudness  Speechiness  Acousticness  \\\n",
       "0      0.537692  0.866212  0.810564     0.042070      0.009617   \n",
       "1      0.734581  0.462836  0.759134     0.066651      0.008202   \n",
       "\n",
       "   Instrumentalness  Liveness   Valence     Tempo     Genre  \n",
       "0          0.000000  0.202341  0.392104  0.345391  0.555556  \n",
       "1          0.455193  0.249564  0.312722  0.455924  1.000000  "
      ]
     },
     "execution_count": 21,
     "metadata": {},
     "output_type": "execute_result"
    }
   ],
   "source": [
    "column=['Danceability', 'Energy', 'Loudness', 'Speechiness', 'Acousticness',\n",
    "       'Instrumentalness', 'Liveness', 'Valence', 'Tempo', 'Genre']\n",
    "X_final=pd.DataFrame(X_scaled,columns=column)\n",
    "X_final.head(2)"
   ]
  },
  {
   "cell_type": "code",
   "execution_count": 22,
   "metadata": {
    "colab": {
     "base_uri": "https://localhost:8080/"
    },
    "id": "JDvN0JU4XLiH",
    "outputId": "d84cc3bb-9c08-4a10-d501-08365f1ff823"
   },
   "outputs": [
    {
     "data": {
      "text/plain": [
       "(14302, 10)"
      ]
     },
     "execution_count": 22,
     "metadata": {},
     "output_type": "execute_result"
    }
   ],
   "source": [
    "X_final.shape"
   ]
  },
  {
   "cell_type": "markdown",
   "metadata": {},
   "source": [
    "# splitting the data into train and test:"
   ]
  },
  {
   "cell_type": "code",
   "execution_count": 23,
   "metadata": {
    "colab": {
     "base_uri": "https://localhost:8080/"
    },
    "id": "m1T1UER1MrBF",
    "outputId": "af3884d5-06da-47bf-deac-44f45751c867"
   },
   "outputs": [
    {
     "name": "stdout",
     "output_type": "stream",
     "text": [
      "(11441, 10)\n",
      "(2861, 10)\n",
      "(11441,)\n",
      "(2861,)\n"
     ]
    }
   ],
   "source": [
    "# Hold-out validation\n",
    "\n",
    "X_train, X_test, y_train, y_test = train_test_split(X_final, y_sm, train_size = 0.8, test_size=0.2, random_state=15)\n",
    "\n",
    "print(X_train.shape)\n",
    "print(X_test.shape)\n",
    "\n",
    "print(y_train.shape)\n",
    "print(y_test.shape)\n"
   ]
  },
  {
   "cell_type": "code",
   "execution_count": 24,
   "metadata": {
    "colab": {
     "base_uri": "https://localhost:8080/",
     "height": 268
    },
    "id": "zBeAndzMM4FM",
    "outputId": "1e8bdad1-430c-47bd-a836-a19a4bab2574"
   },
   "outputs": [
    {
     "data": {
      "image/png": "[encoded data removed]",
      "text/plain": [
       "<Figure size 432x288 with 1 Axes>"
      ]
     },
     "metadata": {
      "needs_background": "light"
     },
     "output_type": "display_data"
    }
   ],
   "source": [
    "#plotting graph again to check for balanced datset\n",
    "ax = sns.countplot(x = y_train, palette = \"Set3\")"
   ]
  },
  {
   "cell_type": "markdown",
   "metadata": {
    "id": "4n4Z3nMsyyjo"
   },
   "source": [
    "# Logistic Regression Model"
   ]
  },
  {
   "cell_type": "code",
   "execution_count": 25,
   "metadata": {
    "colab": {
     "base_uri": "https://localhost:8080/"
    },
    "id": "3Uo2CmcnNWwQ",
    "outputId": "66c4b962-4f5e-4b53-d049-18f1e36d797e"
   },
   "outputs": [
    {
     "data": {
      "text/plain": [
       "LogisticRegression(random_state=10)"
      ]
     },
     "execution_count": 25,
     "metadata": {},
     "output_type": "execute_result"
    }
   ],
   "source": [
    "# Training the model\n",
    "# Create logistic regression object\n",
    "log_reg = LogisticRegression(random_state=10, solver = 'lbfgs')\n",
    "# Train the model using the training set\n",
    "log_reg.fit(X_train, y_train)\n"
   ]
  },
  {
   "cell_type": "code",
   "execution_count": 26,
   "metadata": {
    "id": "iheZnQTnNYqR"
   },
   "outputs": [],
   "source": [
    "# Predictions on the testing set\n",
    "log_reg.predict(X_test)\n",
    "y_pred = log_reg.predict(X_test)\n"
   ]
  },
  {
   "cell_type": "code",
   "execution_count": 27,
   "metadata": {
    "colab": {
     "base_uri": "https://localhost:8080/"
    },
    "id": "K7JJjl4ZNcYx",
    "outputId": "ceb383ad-7aef-485f-9355-2a254d1dc11a"
   },
   "outputs": [
    {
     "name": "stdout",
     "output_type": "stream",
     "text": [
      "The Testing Accuracy is:  0.6644529884655714\n"
     ]
    }
   ],
   "source": [
    "# Score- Returns the mean accuracy on the given test data and labels \n",
    "# Checking accuracy\n",
    "print(\"The Testing Accuracy is: \", log_reg.score(X_test, y_test))\n"
   ]
  },
  {
   "cell_type": "code",
   "execution_count": 28,
   "metadata": {
    "colab": {
     "base_uri": "https://localhost:8080/"
    },
    "id": "qddcgCmcbDf3",
    "outputId": "d8e160f3-fc89-4f00-c334-cc8f9c4ec10f"
   },
   "outputs": [
    {
     "name": "stdout",
     "output_type": "stream",
     "text": [
      "The Testing Accuracy is:  0.6757276461847741\n",
      "The Training Accuracy is: 0.6644529884655714\n"
     ]
    }
   ],
   "source": [
    "print(\"The Testing Accuracy is: \", log_reg.score(X_train, y_train))\n",
    "print(\"The Training Accuracy is:\",log_reg.score(X_test,y_test))"
   ]
  },
  {
   "cell_type": "code",
   "execution_count": 29,
   "metadata": {
    "colab": {
     "base_uri": "https://localhost:8080/"
    },
    "id": "YzL63c7C5mpZ",
    "outputId": "e82a77c8-29a2-45a0-b063-8acd5c1d85ba"
   },
   "outputs": [
    {
     "data": {
      "text/plain": [
       "array([[ 823,  589],\n",
       "       [ 371, 1078]], dtype=int64)"
      ]
     },
     "execution_count": 29,
     "metadata": {},
     "output_type": "execute_result"
    }
   ],
   "source": [
    "# Confusion matrix\n",
    "from sklearn.metrics import confusion_matrix\n",
    "confusion_matrix = confusion_matrix(y_test, y_pred)\n",
    "confusion_matrix"
   ]
  },
  {
   "cell_type": "code",
   "execution_count": 30,
   "metadata": {
    "colab": {
     "base_uri": "https://localhost:8080/"
    },
    "id": "Mz4r7karxklp",
    "outputId": "bd9ea504-fe03-49a9-b4c8-2952e76f296e"
   },
   "outputs": [
    {
     "name": "stdout",
     "output_type": "stream",
     "text": [
      "              precision    recall  f1-score   support\n",
      "\n",
      "           0       0.69      0.58      0.63      1412\n",
      "           1       0.65      0.74      0.69      1449\n",
      "\n",
      "    accuracy                           0.66      2861\n",
      "   macro avg       0.67      0.66      0.66      2861\n",
      "weighted avg       0.67      0.66      0.66      2861\n",
      "\n"
     ]
    }
   ],
   "source": [
    "# Classification Report\n",
    "from sklearn.metrics import classification_report\n",
    "classification_report=classification_report(y_test, y_pred)\n",
    "print(classification_report)"
   ]
  },
  {
   "cell_type": "code",
   "execution_count": 31,
   "metadata": {
    "colab": {
     "base_uri": "https://localhost:8080/",
     "height": 295
    },
    "id": "AvN0ir1Ioa4z",
    "outputId": "1e7c4bda-c0c0-4e98-eead-e3c5446ff7d2"
   },
   "outputs": [
    {
     "data": {
      "image/png": "[encoded data removed]",
      "text/plain": [
       "<Figure size 432x288 with 1 Axes>"
      ]
     },
     "metadata": {
      "needs_background": "light"
     },
     "output_type": "display_data"
    }
   ],
   "source": [
    "from sklearn.metrics import roc_auc_score\n",
    "from sklearn.metrics import roc_curve\n",
    "logit_roc_auc=roc_auc_score(y_test,log_reg.predict(X_test))\n",
    "fpr,tpr,thresholds=roc_curve(y_test,log_reg.predict_proba(X_test)[:,1])\n",
    "plt.plot(fpr,tpr,label=\"Logistic Regression (area= %0.2f)\" % logit_roc_auc)\n",
    "plt.plot([0,1],[0,1],'r--')\n",
    "plt.xlim([0.0,1.0])\n",
    "plt.ylim([0.0,1.05])\n",
    "plt.xlabel('False positive rate')\n",
    "plt.ylabel('True positive rate')\n",
    "plt.title('Receiver operating characteristic')\n",
    "plt.legend(loc=\"lower right\")\n",
    "plt.savefig('Log_RC')\n",
    "plt.show()"
   ]
  },
  {
   "cell_type": "markdown",
   "metadata": {
    "id": "r6u5niNTxyS1"
   },
   "source": [
    "# Hyperparameter tuning"
   ]
  },
  {
   "cell_type": "code",
   "execution_count": 35,
   "metadata": {
    "id": "HtMcMMhNobqk"
   },
   "outputs": [],
   "source": [
    "param_grid=[\n",
    "            {\"penalty\":[\"l1\",\"l2\",\"elasticnet\",\"none\"],\n",
    "             \"C\":np.logspace(-4,4,20),\n",
    "             \"solver\":[\"lbfgs\",\"newton-cg\",\"liblinear\",\"sag\",\"saga\"],\n",
    "             \"max_iter\":[100,1000,2000,5000]}\n",
    "]"
   ]
  },
  {
   "cell_type": "code",
   "execution_count": 36,
   "metadata": {
    "id": "iAQ8SmOJNgCU"
   },
   "outputs": [],
   "source": [
    "from sklearn.model_selection import GridSearchCV"
   ]
  },
  {
   "cell_type": "code",
   "execution_count": 37,
   "metadata": {
    "id": "db_o4KGkNpU1"
   },
   "outputs": [],
   "source": [
    "clf=GridSearchCV(log_reg,param_grid=param_grid,cv=5,verbose=True,n_jobs=-1)"
   ]
  },
  {
   "cell_type": "code",
   "execution_count": 38,
   "metadata": {
    "colab": {
     "base_uri": "https://localhost:8080/"
    },
    "id": "gerv1XqlNrsT",
    "outputId": "5ec93d33-5511-47f1-e941-5ad734cfe111"
   },
   "outputs": [
    {
     "name": "stdout",
     "output_type": "stream",
     "text": [
      "Fitting 5 folds for each of 1600 candidates, totalling 8000 fits\n"
     ]
    }
   ],
   "source": [
    "best_clf=clf.fit(X_final,y_sm)"
   ]
  },
  {
   "cell_type": "code",
   "execution_count": 39,
   "metadata": {
    "colab": {
     "base_uri": "https://localhost:8080/"
    },
    "id": "XPT9Nnu1O1PQ",
    "outputId": "e51d808c-0056-46b5-d126-744483e9875a"
   },
   "outputs": [
    {
     "data": {
      "text/plain": [
       "LogisticRegression(C=1.623776739188721, random_state=10, solver='liblinear')"
      ]
     },
     "execution_count": 39,
     "metadata": {},
     "output_type": "execute_result"
    }
   ],
   "source": [
    "best_clf.best_estimator_\n"
   ]
  },
  {
   "cell_type": "code",
   "execution_count": 40,
   "metadata": {
    "id": "ljEu_gHtO3S_"
   },
   "outputs": [],
   "source": [
    "# Applying Model\n",
    "log_reg2=LogisticRegression(C=1.623776739188721,penalty='l2',max_iter=100,solver='lbfgs')"
   ]
  },
  {
   "cell_type": "code",
   "execution_count": 41,
   "metadata": {
    "id": "F5IrRyOPO6GV"
   },
   "outputs": [],
   "source": [
    "# Fitting model\n",
    "log_reg2.fit(X_train,y_train)\n",
    "\n",
    "# Predictions\n",
    "y_pred2=log_reg2.predict(X_test)"
   ]
  },
  {
   "cell_type": "code",
   "execution_count": 42,
   "metadata": {
    "colab": {
     "base_uri": "https://localhost:8080/"
    },
    "id": "OX9XNaKg-4FV",
    "outputId": "0ba73fa8-38ce-4376-f24e-3efe5a056668"
   },
   "outputs": [
    {
     "name": "stdout",
     "output_type": "stream",
     "text": [
      "The Testing Accuracy is:  0.670394966794827\n"
     ]
    }
   ],
   "source": [
    "# Final accuracy\n",
    "print(\"The Testing Accuracy is: \", log_reg2.score(X_test, y_test))"
   ]
  },
  {
   "cell_type": "code",
   "execution_count": 43,
   "metadata": {
    "colab": {
     "base_uri": "https://localhost:8080/"
    },
    "id": "z_kAjh3eO9W-",
    "outputId": "471efa7e-3bb2-453b-af69-798ad178babd"
   },
   "outputs": [
    {
     "data": {
      "text/plain": [
       "array([[ 822,  590],\n",
       "       [ 353, 1096]], dtype=int64)"
      ]
     },
     "execution_count": 43,
     "metadata": {},
     "output_type": "execute_result"
    }
   ],
   "source": [
    "# Confusion matrix\n",
    "from sklearn.metrics import confusion_matrix\n",
    "confusion_matrix2 = confusion_matrix(y_test, y_pred2)\n",
    "confusion_matrix2\n"
   ]
  },
  {
   "cell_type": "code",
   "execution_count": 44,
   "metadata": {
    "colab": {
     "base_uri": "https://localhost:8080/"
    },
    "id": "xLf9ZjVPPAlR",
    "outputId": "09ee7363-745e-47b6-b668-b2d661a5d154"
   },
   "outputs": [
    {
     "name": "stdout",
     "output_type": "stream",
     "text": [
      "              precision    recall  f1-score   support\n",
      "\n",
      "           0       0.70      0.58      0.64      1412\n",
      "           1       0.65      0.76      0.70      1449\n",
      "\n",
      "    accuracy                           0.67      2861\n",
      "   macro avg       0.67      0.67      0.67      2861\n",
      "weighted avg       0.67      0.67      0.67      2861\n",
      "\n"
     ]
    }
   ],
   "source": [
    "# Classificaltion report\n",
    "from sklearn.metrics import classification_report\n",
    "classification_report2=classification_report(y_test,y_pred2)\n",
    "print(classification_report2)\n"
   ]
  },
  {
   "cell_type": "markdown",
   "metadata": {
    "id": "Zm_iKkx-Xdxa"
   },
   "source": [
    "# LDA:"
   ]
  },
  {
   "cell_type": "code",
   "execution_count": 46,
   "metadata": {
    "colab": {
     "base_uri": "https://localhost:8080/"
    },
    "id": "wHwOwAkqXcp1",
    "outputId": "0fa2c9a7-6fee-4bc7-dc90-3ebe6c9655f2"
   },
   "outputs": [
    {
     "data": {
      "text/plain": [
       "LinearDiscriminantAnalysis()"
      ]
     },
     "execution_count": 46,
     "metadata": {},
     "output_type": "execute_result"
    }
   ],
   "source": [
    "from sklearn.model_selection import train_test_split\n",
    "from sklearn.discriminant_analysis import LinearDiscriminantAnalysis\n",
    "X_train, X_test, y_train, y_test = train_test_split(X_final, y_sm)\n",
    "lda = LinearDiscriminantAnalysis()\n",
    "lda.fit(X_train, y_train)"
   ]
  },
  {
   "cell_type": "code",
   "execution_count": 47,
   "metadata": {
    "id": "PczGUUUhOm_A"
   },
   "outputs": [],
   "source": [
    "from sklearn.metrics import accuracy_score\n",
    "y_pred3 = lda.predict(X_test)"
   ]
  },
  {
   "cell_type": "code",
   "execution_count": 48,
   "metadata": {
    "colab": {
     "base_uri": "https://localhost:8080/"
    },
    "id": "JWa6HL-8btiw",
    "outputId": "0b6395e9-973b-4e20-a01e-5c50efc4c1ea"
   },
   "outputs": [
    {
     "name": "stdout",
     "output_type": "stream",
     "text": [
      "The Testing Accuracy is:  0.6753355704697986\n"
     ]
    }
   ],
   "source": [
    "# Final accuracy\n",
    "print(\"The Testing Accuracy is: \", lda.score(X_test, y_test))"
   ]
  },
  {
   "cell_type": "code",
   "execution_count": 49,
   "metadata": {
    "colab": {
     "base_uri": "https://localhost:8080/"
    },
    "id": "POGbcz39cS8g",
    "outputId": "bcf35bcc-4c98-44c0-9c1a-0ab205a12058"
   },
   "outputs": [
    {
     "data": {
      "text/plain": [
       "array([[1031,  700],\n",
       "       [ 461, 1384]], dtype=int64)"
      ]
     },
     "execution_count": 49,
     "metadata": {},
     "output_type": "execute_result"
    }
   ],
   "source": [
    "# Confusion matrix\n",
    "from sklearn.metrics import confusion_matrix\n",
    "confusion_matrix3 = confusion_matrix(y_test, y_pred3)\n",
    "confusion_matrix3"
   ]
  },
  {
   "cell_type": "code",
   "execution_count": 50,
   "metadata": {
    "colab": {
     "base_uri": "https://localhost:8080/"
    },
    "id": "AXx-HzMhcmB3",
    "outputId": "f8a46049-c49f-4c48-cac2-4b515edb3092"
   },
   "outputs": [
    {
     "name": "stdout",
     "output_type": "stream",
     "text": [
      "              precision    recall  f1-score   support\n",
      "\n",
      "           0       0.69      0.60      0.64      1731\n",
      "           1       0.66      0.75      0.70      1845\n",
      "\n",
      "    accuracy                           0.68      3576\n",
      "   macro avg       0.68      0.67      0.67      3576\n",
      "weighted avg       0.68      0.68      0.67      3576\n",
      "\n"
     ]
    }
   ],
   "source": [
    "# Classificaltion report\n",
    "from sklearn.metrics import classification_report\n",
    "classification_report3=classification_report(y_test,y_pred3)\n",
    "print(classification_report3)"
   ]
  },
  {
   "cell_type": "code",
   "execution_count": 51,
   "metadata": {
    "colab": {
     "base_uri": "https://localhost:8080/",
     "height": 295
    },
    "id": "uxCriZWlcurs",
    "outputId": "23dbc44d-adde-4986-82c0-d29274e80ff9"
   },
   "outputs": [
    {
     "data": {
      "image/png": "[encoded data removed]",
      "text/plain": [
       "<Figure size 432x288 with 1 Axes>"
      ]
     },
     "metadata": {
      "needs_background": "light"
     },
     "output_type": "display_data"
    }
   ],
   "source": [
    "from sklearn.metrics import roc_auc_score\n",
    "from sklearn.metrics import roc_curve\n",
    "lda_roc_auc=roc_auc_score(y_test,lda.predict(X_test))\n",
    "fpr2,tpr2,thresholds2=roc_curve(y_test,lda.predict_proba(X_test)[:,1])\n",
    "plt.plot(fpr2,tpr2,label=\"LDA (area= %0.2f)\" % lda_roc_auc)\n",
    "plt.plot([0,1],[0,1],'r--')\n",
    "plt.xlim([0.0,1.0])\n",
    "plt.ylim([0.0,1.05])\n",
    "plt.xlabel('False positive rate')\n",
    "plt.ylabel('True positive rate')\n",
    "plt.title('Receiver operating characteristic')\n",
    "plt.legend(loc=\"lower right\")\n",
    "plt.savefig('LDA_RC')\n",
    "plt.show()"
   ]
  },
  {
   "cell_type": "markdown",
   "metadata": {},
   "source": [
    "# saving the model:"
   ]
  },
  {
   "cell_type": "code",
   "execution_count": 56,
   "metadata": {},
   "outputs": [],
   "source": [
    "import pickle \n",
    "pickle.dump(log_reg2,open(\"log_model.pkl\",\"wb\"))"
   ]
  },
  {
   "cell_type": "code",
   "execution_count": 57,
   "metadata": {},
   "outputs": [],
   "source": [
    "model=pickle.load(open(\"log_model.pkl\",\"rb\"))\n"
   ]
  },
  {
   "cell_type": "code",
   "execution_count": 59,
   "metadata": {},
   "outputs": [
    {
     "data": {
      "text/html": [
       "<div>\n",
       "<style scoped>\n",
       "    .dataframe tbody tr th:only-of-type {\n",
       "        vertical-align: middle;\n",
       "    }\n",
       "\n",
       "    .dataframe tbody tr th {\n",
       "        vertical-align: top;\n",
       "    }\n",
       "\n",
       "    .dataframe thead th {\n",
       "        text-align: right;\n",
       "    }\n",
       "</style>\n",
       "<table border=\"1\" class=\"dataframe\">\n",
       "  <thead>\n",
       "    <tr style=\"text-align: right;\">\n",
       "      <th></th>\n",
       "      <th>Danceability</th>\n",
       "      <th>Energy</th>\n",
       "      <th>Loudness</th>\n",
       "      <th>Speechiness</th>\n",
       "      <th>Acousticness</th>\n",
       "      <th>Instrumentalness</th>\n",
       "      <th>Liveness</th>\n",
       "      <th>Valence</th>\n",
       "      <th>Tempo</th>\n",
       "      <th>Genre</th>\n",
       "      <th>Top100</th>\n",
       "    </tr>\n",
       "  </thead>\n",
       "  <tbody>\n",
       "    <tr>\n",
       "      <th>0</th>\n",
       "      <td>0.556</td>\n",
       "      <td>0.864</td>\n",
       "      <td>-5.870</td>\n",
       "      <td>0.0584</td>\n",
       "      <td>0.009580</td>\n",
       "      <td>0.000000</td>\n",
       "      <td>0.209</td>\n",
       "      <td>0.400</td>\n",
       "      <td>105.143</td>\n",
       "      <td>5</td>\n",
       "      <td>0</td>\n",
       "    </tr>\n",
       "    <tr>\n",
       "      <th>1</th>\n",
       "      <td>0.737</td>\n",
       "      <td>0.463</td>\n",
       "      <td>-7.828</td>\n",
       "      <td>0.0792</td>\n",
       "      <td>0.008170</td>\n",
       "      <td>0.447000</td>\n",
       "      <td>0.255</td>\n",
       "      <td>0.324</td>\n",
       "      <td>123.881</td>\n",
       "      <td>9</td>\n",
       "      <td>0</td>\n",
       "    </tr>\n",
       "    <tr>\n",
       "      <th>2</th>\n",
       "      <td>0.618</td>\n",
       "      <td>0.938</td>\n",
       "      <td>-3.442</td>\n",
       "      <td>0.0456</td>\n",
       "      <td>0.017900</td>\n",
       "      <td>0.000000</td>\n",
       "      <td>0.167</td>\n",
       "      <td>0.875</td>\n",
       "      <td>91.455</td>\n",
       "      <td>9</td>\n",
       "      <td>0</td>\n",
       "    </tr>\n",
       "    <tr>\n",
       "      <th>3</th>\n",
       "      <td>0.331</td>\n",
       "      <td>0.943</td>\n",
       "      <td>-3.188</td>\n",
       "      <td>0.0698</td>\n",
       "      <td>0.007210</td>\n",
       "      <td>0.000002</td>\n",
       "      <td>0.242</td>\n",
       "      <td>0.296</td>\n",
       "      <td>94.612</td>\n",
       "      <td>0</td>\n",
       "      <td>0</td>\n",
       "    </tr>\n",
       "    <tr>\n",
       "      <th>4</th>\n",
       "      <td>0.589</td>\n",
       "      <td>0.890</td>\n",
       "      <td>-3.719</td>\n",
       "      <td>0.0603</td>\n",
       "      <td>0.000481</td>\n",
       "      <td>0.000820</td>\n",
       "      <td>0.201</td>\n",
       "      <td>0.692</td>\n",
       "      <td>90.598</td>\n",
       "      <td>5</td>\n",
       "      <td>0</td>\n",
       "    </tr>\n",
       "  </tbody>\n",
       "</table>\n",
       "</div>"
      ],
      "text/plain": [
       "   Danceability  Energy  Loudness  Speechiness  Acousticness  \\\n",
       "0         0.556   0.864    -5.870       0.0584      0.009580   \n",
       "1         0.737   0.463    -7.828       0.0792      0.008170   \n",
       "2         0.618   0.938    -3.442       0.0456      0.017900   \n",
       "3         0.331   0.943    -3.188       0.0698      0.007210   \n",
       "4         0.589   0.890    -3.719       0.0603      0.000481   \n",
       "\n",
       "   Instrumentalness  Liveness  Valence    Tempo  Genre  Top100  \n",
       "0          0.000000     0.209    0.400  105.143      5       0  \n",
       "1          0.447000     0.255    0.324  123.881      9       0  \n",
       "2          0.000000     0.167    0.875   91.455      9       0  \n",
       "3          0.000002     0.242    0.296   94.612      0       0  \n",
       "4          0.000820     0.201    0.692   90.598      5       0  "
      ]
     },
     "execution_count": 59,
     "metadata": {},
     "output_type": "execute_result"
    }
   ],
   "source": [
    "data.head()"
   ]
  },
  {
   "cell_type": "code",
   "execution_count": 61,
   "metadata": {},
   "outputs": [
    {
     "data": {
      "text/plain": [
       "array([0], dtype=int64)"
      ]
     },
     "execution_count": 61,
     "metadata": {},
     "output_type": "execute_result"
    }
   ],
   "source": [
    "model.predict([[0.556,0.864,-5.874,0.0584,0.009580,0.0000,0.209,0.400,105.14,5]])"
   ]
  },
  {
   "cell_type": "markdown",
   "metadata": {
    "id": "wYqa6bbtdpvu"
   },
   "source": [
    "## Ridge and Lasso implementation:"
   ]
  },
  {
   "cell_type": "code",
   "execution_count": null,
   "metadata": {
    "id": "n2KU5MchdLqU"
   },
   "outputs": [],
   "source": [
    "from sklearn.linear_model import Ridge\n",
    "\n",
    "from sklearn.linear_model import Lasso"
   ]
  },
  {
   "cell_type": "code",
   "execution_count": null,
   "metadata": {
    "id": "ATZlnmmddxwO"
   },
   "outputs": [],
   "source": [
    "lasso = Lasso(alpha=0.1)\n",
    "ridge = Ridge(alpha=.3)\n"
   ]
  },
  {
   "cell_type": "code",
   "execution_count": null,
   "metadata": {
    "colab": {
     "base_uri": "https://localhost:8080/"
    },
    "id": "D3IW2lVSe9GB",
    "outputId": "91350e91-0c8d-40e4-a738-be224008a952"
   },
   "outputs": [
    {
     "data": {
      "text/plain": [
       "Ridge(alpha=0.3, copy_X=True, fit_intercept=True, max_iter=None,\n",
       "      normalize=False, random_state=None, solver='auto', tol=0.001)"
      ]
     },
     "execution_count": 60,
     "metadata": {
      "tags": []
     },
     "output_type": "execute_result"
    }
   ],
   "source": [
    "ridge.fit(X_train,y_train)"
   ]
  },
  {
   "cell_type": "code",
   "execution_count": null,
   "metadata": {
    "colab": {
     "base_uri": "https://localhost:8080/"
    },
    "id": "RNNLt_VeeJEz",
    "outputId": "6eeb2f06-5705-4b0c-87bb-9bf47f8fed7d"
   },
   "outputs": [
    {
     "data": {
      "text/plain": [
       "Lasso(alpha=0.1, copy_X=True, fit_intercept=True, max_iter=1000,\n",
       "      normalize=False, positive=False, precompute=False, random_state=None,\n",
       "      selection='cyclic', tol=0.0001, warm_start=False)"
      ]
     },
     "execution_count": 63,
     "metadata": {
      "tags": []
     },
     "output_type": "execute_result"
    }
   ],
   "source": [
    "lasso.fit(X_train,y_train)\n"
   ]
  },
  {
   "cell_type": "code",
   "execution_count": null,
   "metadata": {
    "colab": {
     "base_uri": "https://localhost:8080/"
    },
    "id": "4ynzf3sAeVxW",
    "outputId": "a56b81ca-e4e1-4099-9772-92708aa6b43a"
   },
   "outputs": [
    {
     "name": "stdout",
     "output_type": "stream",
     "text": [
      "Lasso model: [ 0.  0.  0.  0. -0. -0. -0.  0. -0. -0.]\n"
     ]
    }
   ],
   "source": [
    "print (\"Lasso model:\", (lasso.coef_))"
   ]
  },
  {
   "cell_type": "code",
   "execution_count": null,
   "metadata": {
    "colab": {
     "base_uri": "https://localhost:8080/"
    },
    "id": "eumrnhOLesm3",
    "outputId": "a76517cc-3c72-4797-d471-767d9711877c"
   },
   "outputs": [
    {
     "name": "stdout",
     "output_type": "stream",
     "text": [
      "Lasso model: [ 0.19660563 -0.7066762   2.1733763   0.03119483 -0.4384683  -0.39055966\n",
      " -0.18368887  0.03629215 -0.06773706 -0.25144346]\n"
     ]
    }
   ],
   "source": [
    "print (\"Lasso model:\", (ridge.coef_))"
   ]
  },
  {
   "cell_type": "code",
   "execution_count": null,
   "metadata": {
    "colab": {
     "base_uri": "https://localhost:8080/"
    },
    "id": "Y9-hSk-FfG48",
    "outputId": "7327d7f4-9e37-4796-9582-0ea564124989"
   },
   "outputs": [
    {
     "name": "stdout",
     "output_type": "stream",
     "text": [
      "Ridge Regression Model Training Score:  0.14155225123898696\n",
      "Ridge Regression Model Testing Score:  0.15472624633042842\n",
      "Lasso Regression Model Training Score:  0.0\n",
      "Lasso Regression Model Testing Score:  -5.005260268919898e-06\n"
     ]
    }
   ],
   "source": [
    "print(\"Ridge Regression Model Training Score: \",ridge.score(X_train, y_train))\n",
    "\n",
    "print(\"Ridge Regression Model Testing Score: \",ridge.score(X_test, y_test))\n",
    "\n",
    "print(\"Lasso Regression Model Training Score: \",lasso.score(X_train, y_train))\n",
    "\n",
    "print(\"Lasso Regression Model Testing Score: \",lasso.score(X_test, y_test))"
   ]
  },
  {
   "cell_type": "code",
   "execution_count": null,
   "metadata": {
    "id": "0hHyx1Ybfas2"
   },
   "outputs": [],
   "source": [
    "from sklearn.model_selection import GridSearchCV \n",
    "parameters={'alpha':[1e-15, 1e-10, 1e-8, 1e-3, 1e-2, 1, 5, 10, 20, 30, 35, 40, 45, 50, 55, 100]}\n"
   ]
  },
  {
   "cell_type": "code",
   "execution_count": null,
   "metadata": {
    "colab": {
     "base_uri": "https://localhost:8080/"
    },
    "id": "7AXelhWMhHcD",
    "outputId": "23b7e9a8-4358-4e5e-c4cd-653cc73ee388"
   },
   "outputs": [
    {
     "data": {
      "text/plain": [
       "GridSearchCV(cv=5, error_score=nan,\n",
       "             estimator=Lasso(alpha=0.1, copy_X=True, fit_intercept=True,\n",
       "                             max_iter=1000, normalize=False, positive=False,\n",
       "                             precompute=False, random_state=None,\n",
       "                             selection='cyclic', tol=0.0001, warm_start=False),\n",
       "             iid='deprecated', n_jobs=None,\n",
       "             param_grid={'alpha': [1e-15, 1e-10, 1e-08, 0.001, 0.01, 1, 5, 10,\n",
       "                                   20, 30, 35, 40, 45, 50, 55, 100]},\n",
       "             pre_dispatch='2*n_jobs', refit=True, return_train_score=False,\n",
       "             scoring=None, verbose=0)"
      ]
     },
     "execution_count": 67,
     "metadata": {
      "tags": []
     },
     "output_type": "execute_result"
    }
   ],
   "source": [
    "lasso_regressor=GridSearchCV(lasso,parameters,cv=5)  \n",
    "lasso_regressor.fit(X_train,y_train)"
   ]
  },
  {
   "cell_type": "code",
   "execution_count": 32,
   "metadata": {
    "id": "VQpniSKYi4D-"
   },
   "outputs": [
    {
     "data": {
      "text/html": [
       "<div>\n",
       "<style scoped>\n",
       "    .dataframe tbody tr th:only-of-type {\n",
       "        vertical-align: middle;\n",
       "    }\n",
       "\n",
       "    .dataframe tbody tr th {\n",
       "        vertical-align: top;\n",
       "    }\n",
       "\n",
       "    .dataframe thead th {\n",
       "        text-align: right;\n",
       "    }\n",
       "</style>\n",
       "<table border=\"1\" class=\"dataframe\">\n",
       "  <thead>\n",
       "    <tr style=\"text-align: right;\">\n",
       "      <th></th>\n",
       "      <th>Danceability</th>\n",
       "      <th>Energy</th>\n",
       "      <th>Loudness</th>\n",
       "      <th>Speechiness</th>\n",
       "      <th>Acousticness</th>\n",
       "      <th>Instrumentalness</th>\n",
       "      <th>Liveness</th>\n",
       "      <th>Valence</th>\n",
       "      <th>Tempo</th>\n",
       "      <th>Genre</th>\n",
       "      <th>Top100</th>\n",
       "    </tr>\n",
       "  </thead>\n",
       "  <tbody>\n",
       "    <tr>\n",
       "      <th>0</th>\n",
       "      <td>0.556</td>\n",
       "      <td>0.864</td>\n",
       "      <td>-5.870</td>\n",
       "      <td>0.0584</td>\n",
       "      <td>0.009580</td>\n",
       "      <td>0.000000</td>\n",
       "      <td>0.209</td>\n",
       "      <td>0.400</td>\n",
       "      <td>105.143</td>\n",
       "      <td>5</td>\n",
       "      <td>0</td>\n",
       "    </tr>\n",
       "    <tr>\n",
       "      <th>1</th>\n",
       "      <td>0.737</td>\n",
       "      <td>0.463</td>\n",
       "      <td>-7.828</td>\n",
       "      <td>0.0792</td>\n",
       "      <td>0.008170</td>\n",
       "      <td>0.447000</td>\n",
       "      <td>0.255</td>\n",
       "      <td>0.324</td>\n",
       "      <td>123.881</td>\n",
       "      <td>9</td>\n",
       "      <td>0</td>\n",
       "    </tr>\n",
       "    <tr>\n",
       "      <th>2</th>\n",
       "      <td>0.618</td>\n",
       "      <td>0.938</td>\n",
       "      <td>-3.442</td>\n",
       "      <td>0.0456</td>\n",
       "      <td>0.017900</td>\n",
       "      <td>0.000000</td>\n",
       "      <td>0.167</td>\n",
       "      <td>0.875</td>\n",
       "      <td>91.455</td>\n",
       "      <td>9</td>\n",
       "      <td>0</td>\n",
       "    </tr>\n",
       "    <tr>\n",
       "      <th>3</th>\n",
       "      <td>0.331</td>\n",
       "      <td>0.943</td>\n",
       "      <td>-3.188</td>\n",
       "      <td>0.0698</td>\n",
       "      <td>0.007210</td>\n",
       "      <td>0.000002</td>\n",
       "      <td>0.242</td>\n",
       "      <td>0.296</td>\n",
       "      <td>94.612</td>\n",
       "      <td>0</td>\n",
       "      <td>0</td>\n",
       "    </tr>\n",
       "    <tr>\n",
       "      <th>4</th>\n",
       "      <td>0.589</td>\n",
       "      <td>0.890</td>\n",
       "      <td>-3.719</td>\n",
       "      <td>0.0603</td>\n",
       "      <td>0.000481</td>\n",
       "      <td>0.000820</td>\n",
       "      <td>0.201</td>\n",
       "      <td>0.692</td>\n",
       "      <td>90.598</td>\n",
       "      <td>5</td>\n",
       "      <td>0</td>\n",
       "    </tr>\n",
       "  </tbody>\n",
       "</table>\n",
       "</div>"
      ],
      "text/plain": [
       "   Danceability  Energy  Loudness  Speechiness  Acousticness  \\\n",
       "0         0.556   0.864    -5.870       0.0584      0.009580   \n",
       "1         0.737   0.463    -7.828       0.0792      0.008170   \n",
       "2         0.618   0.938    -3.442       0.0456      0.017900   \n",
       "3         0.331   0.943    -3.188       0.0698      0.007210   \n",
       "4         0.589   0.890    -3.719       0.0603      0.000481   \n",
       "\n",
       "   Instrumentalness  Liveness  Valence    Tempo  Genre  Top100  \n",
       "0          0.000000     0.209    0.400  105.143      5       0  \n",
       "1          0.447000     0.255    0.324  123.881      9       0  \n",
       "2          0.000000     0.167    0.875   91.455      9       0  \n",
       "3          0.000002     0.242    0.296   94.612      0       0  \n",
       "4          0.000820     0.201    0.692   90.598      5       0  "
      ]
     },
     "execution_count": 32,
     "metadata": {},
     "output_type": "execute_result"
    }
   ],
   "source": [
    "data.head()"
   ]
  },
  {
   "cell_type": "code",
   "execution_count": 33,
   "metadata": {},
   "outputs": [
    {
     "ename": "ModuleNotFoundError",
     "evalue": "No module named 'eli5'",
     "output_type": "error",
     "traceback": [
      "\u001b[1;31m---------------------------------------------------------------------------\u001b[0m",
      "\u001b[1;31mModuleNotFoundError\u001b[0m                       Traceback (most recent call last)",
      "\u001b[1;32m<ipython-input-33-451aaefc178f>\u001b[0m in \u001b[0;36m<module>\u001b[1;34m\u001b[0m\n\u001b[1;32m----> 1\u001b[1;33m \u001b[1;32mimport\u001b[0m \u001b[0meli5\u001b[0m\u001b[1;33m\u001b[0m\u001b[1;33m\u001b[0m\u001b[0m\n\u001b[0m\u001b[0;32m      2\u001b[0m \u001b[1;32mfrom\u001b[0m \u001b[0meli5\u001b[0m\u001b[1;33m.\u001b[0m\u001b[0msklearn\u001b[0m \u001b[1;32mimport\u001b[0m \u001b[0mPermutationImportance\u001b[0m\u001b[1;33m\u001b[0m\u001b[1;33m\u001b[0m\u001b[0m\n\u001b[0;32m      3\u001b[0m \u001b[1;33m\u001b[0m\u001b[0m\n\u001b[0;32m      4\u001b[0m \u001b[0mperm\u001b[0m \u001b[1;33m=\u001b[0m \u001b[0mPermutationImportance\u001b[0m\u001b[1;33m(\u001b[0m\u001b[0mfirst_model\u001b[0m\u001b[1;33m,\u001b[0m \u001b[0mrandom_state\u001b[0m\u001b[1;33m=\u001b[0m\u001b[1;36m1\u001b[0m\u001b[1;33m)\u001b[0m\u001b[1;33m.\u001b[0m\u001b[0mfit\u001b[0m\u001b[1;33m(\u001b[0m\u001b[0mval_X\u001b[0m\u001b[1;33m,\u001b[0m \u001b[0mval_y\u001b[0m\u001b[1;33m)\u001b[0m\u001b[1;33m\u001b[0m\u001b[1;33m\u001b[0m\u001b[0m\n\u001b[0;32m      5\u001b[0m \u001b[0meli5\u001b[0m\u001b[1;33m.\u001b[0m\u001b[0mshow_weights\u001b[0m\u001b[1;33m(\u001b[0m\u001b[0mperm\u001b[0m\u001b[1;33m,\u001b[0m \u001b[0mfeature_names\u001b[0m \u001b[1;33m=\u001b[0m \u001b[0mbase_features\u001b[0m\u001b[1;33m)\u001b[0m\u001b[1;33m\u001b[0m\u001b[1;33m\u001b[0m\u001b[0m\n",
      "\u001b[1;31mModuleNotFoundError\u001b[0m: No module named 'eli5'"
     ]
    }
   ],
   "source": [
    "\n",
    "import eli5\n",
    "from eli5.sklearn import PermutationImportance\n",
    "\n",
    "perm = PermutationImportance(first_model, random_state=1).fit(val_X, val_y)\n",
    "eli5.show_weights(perm, feature_names = base_features)"
   ]
  },
  {
   "cell_type": "code",
   "execution_count": 35,
   "metadata": {},
   "outputs": [
    {
     "name": "stdout",
     "output_type": "stream",
     "text": [
      "Requirement already satisfied: eli5 in c:\\users\\awesomeakbar\\appdata\\local\\programs\\python\\python39\\lib\\site-packages (0.11.0)\n",
      "Requirement already satisfied: attrs>16.0.0 in c:\\users\\awesomeakbar\\appdata\\local\\programs\\python\\python39\\lib\\site-packages (from eli5) (20.3.0)\n",
      "Requirement already satisfied: jinja2 in c:\\users\\awesomeakbar\\appdata\\local\\programs\\python\\python39\\lib\\site-packages (from eli5) (2.11.2)\n",
      "Requirement already satisfied: scipy in c:\\users\\awesomeakbar\\appdata\\local\\programs\\python\\python39\\lib\\site-packages (from eli5) (1.6.0)"
     ]
    },
    {
     "name": "stderr",
     "output_type": "stream",
     "text": [
      "WARNING: You are using pip version 20.2.3; however, version 21.2.2 is available.\n",
      "You should consider upgrading via the 'c:\\users\\awesomeakbar\\appdata\\local\\programs\\python\\python39\\python.exe -m pip install --upgrade pip' command.\n"
     ]
    },
    {
     "name": "stdout",
     "output_type": "stream",
     "text": [
      "\n",
      "Requirement already satisfied: scikit-learn>=0.20 in c:\\users\\awesomeakbar\\appdata\\local\\programs\\python\\python39\\lib\\site-packages (from eli5) (0.24.1)\n",
      "Requirement already satisfied: numpy>=1.9.0 in c:\\users\\awesomeakbar\\appdata\\local\\programs\\python\\python39\\lib\\site-packages (from eli5) (1.19.5)\n",
      "Requirement already satisfied: graphviz in c:\\users\\awesomeakbar\\appdata\\local\\programs\\python\\python39\\lib\\site-packages (from eli5) (0.17)\n",
      "Requirement already satisfied: six in c:\\users\\awesomeakbar\\appdata\\local\\programs\\python\\python39\\lib\\site-packages (from eli5) (1.15.0)\n",
      "Requirement already satisfied: tabulate>=0.7.7 in c:\\users\\awesomeakbar\\appdata\\local\\programs\\python\\python39\\lib\\site-packages (from eli5) (0.8.9)\n",
      "Requirement already satisfied: MarkupSafe>=0.23 in c:\\users\\awesomeakbar\\appdata\\local\\programs\\python\\python39\\lib\\site-packages (from jinja2->eli5) (1.1.1)\n",
      "Requirement already satisfied: joblib>=0.11 in c:\\users\\awesomeakbar\\appdata\\local\\programs\\python\\python39\\lib\\site-packages (from scikit-learn>=0.20->eli5) (1.0.0)\n",
      "Requirement already satisfied: threadpoolctl>=2.0.0 in c:\\users\\awesomeakbar\\appdata\\local\\programs\\python\\python39\\lib\\site-packages (from scikit-learn>=0.20->eli5) (2.1.0)\n"
     ]
    }
   ],
   "source": [
    "!pip install eli5"
   ]
  },
  {
   "cell_type": "code",
   "execution_count": null,
   "metadata": {},
   "outputs": [],
   "source": []
  }
 ],
 "metadata": {
  "colab": {
   "collapsed_sections": [],
   "name": "Copy of Group1_Modelling_Billboard100.ipynb",
   "provenance": []
  },
  "kernelspec": {
   "display_name": "Python 3",
   "language": "python",
   "name": "python3"
  },
  "language_info": {
   "codemirror_mode": {
    "name": "ipython",
    "version": 3
   },
   "file_extension": ".py",
   "mimetype": "text/x-python",
   "name": "python",
   "nbconvert_exporter": "python",
   "pygments_lexer": "ipython3",
   "version": "3.9.1"
  }
 },
 "nbformat": 4,
 "nbformat_minor": 1
}
